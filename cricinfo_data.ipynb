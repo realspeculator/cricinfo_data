{
 "cells": [
  {
   "cell_type": "code",
   "execution_count": 1,
   "id": "5b5fabc0-aa6e-4174-900d-cdb454ecf7fd",
   "metadata": {},
   "outputs": [],
   "source": [
    "import pandas as pd\n",
    "import time"
   ]
  },
  {
   "cell_type": "code",
   "execution_count": 2,
   "id": "a741e6eb-2803-47ff-b761-a02f126a5d66",
   "metadata": {},
   "outputs": [],
   "source": [
    "yrs = [2019,2020,2021,2022,2023]\n",
    "teams = {1: \"Eng\", 2: \"Aus\", 3: \"SA\", 4: \"WI\", 5: \"NZ\", 6: \"Ind\", 7: \"Pak\", 8: \"SL\"}\n",
    "\n",
    "def get_stats(team, yr):\n",
    "    return pd.read_html(\"https://stats.espncricinfo.com/ci/engine/stats/index.html?class=2;spanmax1=31+Dec+\" + yr + \";spanmin1=01+Jan+\" + yr + \";spanval1=span;team=\" + team + \";template=results;type=aggregate;view=host\")[2]\n",
    "    "
   ]
  },
  {
   "cell_type": "code",
   "execution_count": 3,
   "id": "8637e92d-8ca6-459e-a453-72a6886a05f2",
   "metadata": {},
   "outputs": [],
   "source": [
    "dfs = []\n",
    "\n",
    "for i in teams.keys():\n",
    "    for j in yrs:\n",
    "        df1 = get_stats(str(i), str(j))\n",
    "        df1['team'] = i\n",
    "        df1['year'] = j\n",
    "        dfs.append(df1)\n",
    "        time.sleep(1)\n"
   ]
  },
  {
   "cell_type": "code",
   "execution_count": 4,
   "id": "47792ebb-b2c7-4e8e-8e26-d85292d25555",
   "metadata": {},
   "outputs": [],
   "source": [
    "all_df = pd.concat(dfs, axis=0)"
   ]
  },
  {
   "cell_type": "code",
   "execution_count": 5,
   "id": "3fc350af-c836-4c47-bac7-629d5eaa7e0f",
   "metadata": {},
   "outputs": [],
   "source": [
    "all_df[\"host\"] = all_df['Unnamed: 9'].ffill()"
   ]
  },
  {
   "cell_type": "code",
   "execution_count": 6,
   "id": "a400bfcb-bb4f-47bc-b7ee-5ccc5869a6fc",
   "metadata": {},
   "outputs": [],
   "source": [
    "all_df[all_df['Unnamed: 9'].isna()].to_csv(\"cricinfo.csv\", index=False)"
   ]
  },
  {
   "cell_type": "code",
   "execution_count": 7,
   "id": "94326a2f-0e08-498e-b666-a2873e5bab35",
   "metadata": {},
   "outputs": [
    {
     "name": "stdout",
     "output_type": "stream",
     "text": [
      "Below are the Team number and the Teams\n",
      "1 - Eng\n",
      "2 - Aus\n",
      "3 - SA\n",
      "4 - WI\n",
      "5 - NZ\n",
      "6 - Ind\n",
      "7 - Pak\n",
      "8 - SL\n"
     ]
    }
   ],
   "source": [
    "print(\"Below are the Team number and the Teams\")\n",
    "\n",
    "for i, j in teams.items():\n",
    "    print(i, \"-\", j)"
   ]
  },
  {
   "cell_type": "code",
   "execution_count": null,
   "id": "12674272-c290-4421-b36f-582398c46ded",
   "metadata": {},
   "outputs": [],
   "source": []
  }
 ],
 "metadata": {
  "kernelspec": {
   "display_name": "Python 3 (ipykernel)",
   "language": "python",
   "name": "python3"
  },
  "language_info": {
   "codemirror_mode": {
    "name": "ipython",
    "version": 3
   },
   "file_extension": ".py",
   "mimetype": "text/x-python",
   "name": "python",
   "nbconvert_exporter": "python",
   "pygments_lexer": "ipython3",
   "version": "3.10.11"
  }
 },
 "nbformat": 4,
 "nbformat_minor": 5
}
